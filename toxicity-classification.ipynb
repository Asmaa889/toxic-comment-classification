{
 "cells": [
  {
   "cell_type": "code",
   "execution_count": 1,
   "id": "02e26161",
   "metadata": {
    "_cell_guid": "b1076dfc-b9ad-4769-8c92-a6c4dae69d19",
    "_uuid": "8f2839f25d086af736a60e9eeb907d3b93b6e0e5",
    "execution": {
     "iopub.execute_input": "2023-10-04T18:08:47.548538Z",
     "iopub.status.busy": "2023-10-04T18:08:47.548018Z",
     "iopub.status.idle": "2023-10-04T18:08:48.955821Z",
     "shell.execute_reply": "2023-10-04T18:08:48.954762Z"
    },
    "papermill": {
     "duration": 1.417475,
     "end_time": "2023-10-04T18:08:48.957843",
     "exception": false,
     "start_time": "2023-10-04T18:08:47.540368",
     "status": "completed"
    },
    "tags": []
   },
   "outputs": [],
   "source": [
    "import zipfile\n",
    "\n",
    "z= zipfile.ZipFile('/kaggle/input/jigsaw-toxic-comment-classification-challenge/train.csv.zip')\n",
    "z.extractall()\n",
    "z= zipfile.ZipFile('/kaggle/input/jigsaw-toxic-comment-classification-challenge/test.csv.zip')\n",
    "z.extractall()\n",
    "z= zipfile.ZipFile('/kaggle/input/jigsaw-toxic-comment-classification-challenge/sample_submission.csv.zip')\n",
    "z.extractall()"
   ]
  },
  {
   "cell_type": "code",
   "execution_count": 2,
   "id": "ee3e16b7",
   "metadata": {
    "execution": {
     "iopub.execute_input": "2023-10-04T18:08:48.971548Z",
     "iopub.status.busy": "2023-10-04T18:08:48.971289Z",
     "iopub.status.idle": "2023-10-04T18:08:51.275836Z",
     "shell.execute_reply": "2023-10-04T18:08:51.274900Z"
    },
    "papermill": {
     "duration": 2.313571,
     "end_time": "2023-10-04T18:08:51.277893",
     "exception": false,
     "start_time": "2023-10-04T18:08:48.964322",
     "status": "completed"
    },
    "tags": []
   },
   "outputs": [
    {
     "name": "stderr",
     "output_type": "stream",
     "text": [
      "/opt/conda/lib/python3.10/site-packages/scipy/__init__.py:146: UserWarning: A NumPy version >=1.16.5 and <1.23.0 is required for this version of SciPy (detected version 1.23.5\n",
      "  warnings.warn(f\"A NumPy version >={np_minversion} and <{np_maxversion}\"\n"
     ]
    }
   ],
   "source": [
    "import pandas as pd\n",
    "import numpy as np\n",
    "import matplotlib.pyplot as plt\n",
    "import seaborn as sns"
   ]
  },
  {
   "cell_type": "code",
   "execution_count": 3,
   "id": "0c47c9e3",
   "metadata": {
    "execution": {
     "iopub.execute_input": "2023-10-04T18:08:51.291813Z",
     "iopub.status.busy": "2023-10-04T18:08:51.291170Z",
     "iopub.status.idle": "2023-10-04T18:09:02.387945Z",
     "shell.execute_reply": "2023-10-04T18:09:02.386886Z"
    },
    "papermill": {
     "duration": 11.105769,
     "end_time": "2023-10-04T18:09:02.390039",
     "exception": false,
     "start_time": "2023-10-04T18:08:51.284270",
     "status": "completed"
    },
    "tags": []
   },
   "outputs": [
    {
     "name": "stdout",
     "output_type": "stream",
     "text": [
      "Collecting contractions\r\n",
      "  Downloading contractions-0.1.73-py2.py3-none-any.whl (8.7 kB)\r\n",
      "Collecting textsearch>=0.0.21 (from contractions)\r\n",
      "  Downloading textsearch-0.0.24-py2.py3-none-any.whl (7.6 kB)\r\n",
      "Collecting anyascii (from textsearch>=0.0.21->contractions)\r\n",
      "  Downloading anyascii-0.3.2-py3-none-any.whl (289 kB)\r\n",
      "\u001b[2K     \u001b[90m━━━━━━━━━━━━━━━━━━━━━━━━━━━━━━━━━━━━━━\u001b[0m \u001b[32m289.9/289.9 kB\u001b[0m \u001b[31m10.0 MB/s\u001b[0m eta \u001b[36m0:00:00\u001b[0m\r\n",
      "\u001b[?25hCollecting pyahocorasick (from textsearch>=0.0.21->contractions)\r\n",
      "  Downloading pyahocorasick-2.0.0-cp310-cp310-manylinux_2_5_x86_64.manylinux1_x86_64.manylinux_2_12_x86_64.manylinux2010_x86_64.whl (110 kB)\r\n",
      "\u001b[2K     \u001b[90m━━━━━━━━━━━━━━━━━━━━━━━━━━━━━━━━━━━━━━\u001b[0m \u001b[32m110.8/110.8 kB\u001b[0m \u001b[31m10.1 MB/s\u001b[0m eta \u001b[36m0:00:00\u001b[0m\r\n",
      "\u001b[?25hInstalling collected packages: pyahocorasick, anyascii, textsearch, contractions\r\n",
      "Successfully installed anyascii-0.3.2 contractions-0.1.73 pyahocorasick-2.0.0 textsearch-0.0.24\r\n"
     ]
    }
   ],
   "source": [
    "! pip install contractions"
   ]
  },
  {
   "cell_type": "code",
   "execution_count": 4,
   "id": "834af622",
   "metadata": {
    "execution": {
     "iopub.execute_input": "2023-10-04T18:09:02.404961Z",
     "iopub.status.busy": "2023-10-04T18:09:02.404674Z",
     "iopub.status.idle": "2023-10-04T18:09:03.359161Z",
     "shell.execute_reply": "2023-10-04T18:09:03.358261Z"
    },
    "papermill": {
     "duration": 0.964126,
     "end_time": "2023-10-04T18:09:03.361173",
     "exception": false,
     "start_time": "2023-10-04T18:09:02.397047",
     "status": "completed"
    },
    "tags": []
   },
   "outputs": [],
   "source": [
    "import contractions\n",
    "from sklearn.feature_extraction.text import CountVectorizer\n",
    "import string\n",
    "import nltk\n",
    "from nltk.tokenize import word_tokenize\n",
    "import re \n",
    "from nltk.corpus import stopwords"
   ]
  },
  {
   "cell_type": "code",
   "execution_count": 5,
   "id": "63380d37",
   "metadata": {
    "execution": {
     "iopub.execute_input": "2023-10-04T18:09:03.375797Z",
     "iopub.status.busy": "2023-10-04T18:09:03.375538Z",
     "iopub.status.idle": "2023-10-04T18:09:13.051904Z",
     "shell.execute_reply": "2023-10-04T18:09:13.050999Z"
    },
    "papermill": {
     "duration": 9.685938,
     "end_time": "2023-10-04T18:09:13.054121",
     "exception": false,
     "start_time": "2023-10-04T18:09:03.368183",
     "status": "completed"
    },
    "tags": []
   },
   "outputs": [],
   "source": [
    "from sklearn.model_selection import train_test_split\n",
    "import tensorflow as tf\n",
    "from tensorflow.keras.preprocessing.sequence import pad_sequences\n",
    "from tensorflow.keras.preprocessing.text import text_to_word_sequence\n",
    "\n",
    "from tensorflow.keras import Model, Input\n",
    "from tensorflow.keras.layers import LSTM, Embedding, Dense\n",
    "from tensorflow.keras.layers import TimeDistributed, SpatialDropout1D, Bidirectional\n",
    "\n",
    "from sklearn import metrics"
   ]
  },
  {
   "cell_type": "code",
   "execution_count": 6,
   "id": "9090aa13",
   "metadata": {
    "execution": {
     "iopub.execute_input": "2023-10-04T18:09:13.069591Z",
     "iopub.status.busy": "2023-10-04T18:09:13.068953Z",
     "iopub.status.idle": "2023-10-04T18:09:13.231306Z",
     "shell.execute_reply": "2023-10-04T18:09:13.230258Z"
    },
    "papermill": {
     "duration": 0.171931,
     "end_time": "2023-10-04T18:09:13.233195",
     "exception": false,
     "start_time": "2023-10-04T18:09:13.061264",
     "status": "completed"
    },
    "tags": []
   },
   "outputs": [
    {
     "name": "stdout",
     "output_type": "stream",
     "text": [
      "[nltk_data] Downloading package stopwords to /usr/share/nltk_data...\n",
      "[nltk_data]   Package stopwords is already up-to-date!\n",
      "[nltk_data] Downloading package punkt to /usr/share/nltk_data...\n",
      "[nltk_data]   Package punkt is already up-to-date!\n",
      "None\n"
     ]
    }
   ],
   "source": [
    "nltk.download('stopwords')\n",
    "nltk.download('punkt')\n",
    "stopwords = stopwords.words('english')\n",
    "print(stopwords.remove('not'))\n",
    "# print(stopwords)"
   ]
  },
  {
   "cell_type": "code",
   "execution_count": 7,
   "id": "dd081c08",
   "metadata": {
    "execution": {
     "iopub.execute_input": "2023-10-04T18:09:13.248407Z",
     "iopub.status.busy": "2023-10-04T18:09:13.247808Z",
     "iopub.status.idle": "2023-10-04T18:09:14.274453Z",
     "shell.execute_reply": "2023-10-04T18:09:14.273528Z"
    },
    "papermill": {
     "duration": 1.036282,
     "end_time": "2023-10-04T18:09:14.276432",
     "exception": false,
     "start_time": "2023-10-04T18:09:13.240150",
     "status": "completed"
    },
    "tags": []
   },
   "outputs": [
    {
     "data": {
      "text/html": [
       "<div>\n",
       "<style scoped>\n",
       "    .dataframe tbody tr th:only-of-type {\n",
       "        vertical-align: middle;\n",
       "    }\n",
       "\n",
       "    .dataframe tbody tr th {\n",
       "        vertical-align: top;\n",
       "    }\n",
       "\n",
       "    .dataframe thead th {\n",
       "        text-align: right;\n",
       "    }\n",
       "</style>\n",
       "<table border=\"1\" class=\"dataframe\">\n",
       "  <thead>\n",
       "    <tr style=\"text-align: right;\">\n",
       "      <th></th>\n",
       "      <th>comment_text</th>\n",
       "      <th>toxic</th>\n",
       "      <th>severe_toxic</th>\n",
       "      <th>obscene</th>\n",
       "      <th>threat</th>\n",
       "      <th>insult</th>\n",
       "      <th>identity_hate</th>\n",
       "    </tr>\n",
       "    <tr>\n",
       "      <th>id</th>\n",
       "      <th></th>\n",
       "      <th></th>\n",
       "      <th></th>\n",
       "      <th></th>\n",
       "      <th></th>\n",
       "      <th></th>\n",
       "      <th></th>\n",
       "    </tr>\n",
       "  </thead>\n",
       "  <tbody>\n",
       "    <tr>\n",
       "      <th>0000997932d777bf</th>\n",
       "      <td>Explanation\\nWhy the edits made under my usern...</td>\n",
       "      <td>0</td>\n",
       "      <td>0</td>\n",
       "      <td>0</td>\n",
       "      <td>0</td>\n",
       "      <td>0</td>\n",
       "      <td>0</td>\n",
       "    </tr>\n",
       "    <tr>\n",
       "      <th>000103f0d9cfb60f</th>\n",
       "      <td>D'aww! He matches this background colour I'm s...</td>\n",
       "      <td>0</td>\n",
       "      <td>0</td>\n",
       "      <td>0</td>\n",
       "      <td>0</td>\n",
       "      <td>0</td>\n",
       "      <td>0</td>\n",
       "    </tr>\n",
       "    <tr>\n",
       "      <th>000113f07ec002fd</th>\n",
       "      <td>Hey man, I'm really not trying to edit war. It...</td>\n",
       "      <td>0</td>\n",
       "      <td>0</td>\n",
       "      <td>0</td>\n",
       "      <td>0</td>\n",
       "      <td>0</td>\n",
       "      <td>0</td>\n",
       "    </tr>\n",
       "    <tr>\n",
       "      <th>0001b41b1c6bb37e</th>\n",
       "      <td>\"\\nMore\\nI can't make any real suggestions on ...</td>\n",
       "      <td>0</td>\n",
       "      <td>0</td>\n",
       "      <td>0</td>\n",
       "      <td>0</td>\n",
       "      <td>0</td>\n",
       "      <td>0</td>\n",
       "    </tr>\n",
       "    <tr>\n",
       "      <th>0001d958c54c6e35</th>\n",
       "      <td>You, sir, are my hero. Any chance you remember...</td>\n",
       "      <td>0</td>\n",
       "      <td>0</td>\n",
       "      <td>0</td>\n",
       "      <td>0</td>\n",
       "      <td>0</td>\n",
       "      <td>0</td>\n",
       "    </tr>\n",
       "  </tbody>\n",
       "</table>\n",
       "</div>"
      ],
      "text/plain": [
       "                                                       comment_text  toxic  \\\n",
       "id                                                                           \n",
       "0000997932d777bf  Explanation\\nWhy the edits made under my usern...      0   \n",
       "000103f0d9cfb60f  D'aww! He matches this background colour I'm s...      0   \n",
       "000113f07ec002fd  Hey man, I'm really not trying to edit war. It...      0   \n",
       "0001b41b1c6bb37e  \"\\nMore\\nI can't make any real suggestions on ...      0   \n",
       "0001d958c54c6e35  You, sir, are my hero. Any chance you remember...      0   \n",
       "\n",
       "                  severe_toxic  obscene  threat  insult  identity_hate  \n",
       "id                                                                      \n",
       "0000997932d777bf             0        0       0       0              0  \n",
       "000103f0d9cfb60f             0        0       0       0              0  \n",
       "000113f07ec002fd             0        0       0       0              0  \n",
       "0001b41b1c6bb37e             0        0       0       0              0  \n",
       "0001d958c54c6e35             0        0       0       0              0  "
      ]
     },
     "execution_count": 7,
     "metadata": {},
     "output_type": "execute_result"
    }
   ],
   "source": [
    "df = pd.read_csv(\"/kaggle/working/train.csv\", index_col = 'id')\n",
    "df.head()"
   ]
  },
  {
   "cell_type": "code",
   "execution_count": 8,
   "id": "7db2bdd4",
   "metadata": {
    "execution": {
     "iopub.execute_input": "2023-10-04T18:09:14.291281Z",
     "iopub.status.busy": "2023-10-04T18:09:14.291014Z",
     "iopub.status.idle": "2023-10-04T18:09:14.335952Z",
     "shell.execute_reply": "2023-10-04T18:09:14.334454Z"
    },
    "papermill": {
     "duration": 0.054387,
     "end_time": "2023-10-04T18:09:14.337812",
     "exception": false,
     "start_time": "2023-10-04T18:09:14.283425",
     "status": "completed"
    },
    "tags": []
   },
   "outputs": [
    {
     "name": "stdout",
     "output_type": "stream",
     "text": [
      "<class 'pandas.core.frame.DataFrame'>\n",
      "Index: 159571 entries, 0000997932d777bf to fff46fc426af1f9a\n",
      "Data columns (total 7 columns):\n",
      " #   Column         Non-Null Count   Dtype \n",
      "---  ------         --------------   ----- \n",
      " 0   comment_text   159571 non-null  object\n",
      " 1   toxic          159571 non-null  int64 \n",
      " 2   severe_toxic   159571 non-null  int64 \n",
      " 3   obscene        159571 non-null  int64 \n",
      " 4   threat         159571 non-null  int64 \n",
      " 5   insult         159571 non-null  int64 \n",
      " 6   identity_hate  159571 non-null  int64 \n",
      "dtypes: int64(6), object(1)\n",
      "memory usage: 9.7+ MB\n"
     ]
    }
   ],
   "source": [
    "df.info()"
   ]
  },
  {
   "cell_type": "code",
   "execution_count": 9,
   "id": "f85f94ea",
   "metadata": {
    "execution": {
     "iopub.execute_input": "2023-10-04T18:09:14.352849Z",
     "iopub.status.busy": "2023-10-04T18:09:14.352285Z",
     "iopub.status.idle": "2023-10-04T18:09:14.565267Z",
     "shell.execute_reply": "2023-10-04T18:09:14.564201Z"
    },
    "papermill": {
     "duration": 0.222592,
     "end_time": "2023-10-04T18:09:14.567155",
     "exception": false,
     "start_time": "2023-10-04T18:09:14.344563",
     "status": "completed"
    },
    "tags": []
   },
   "outputs": [
    {
     "data": {
      "text/plain": [
       "0"
      ]
     },
     "execution_count": 9,
     "metadata": {},
     "output_type": "execute_result"
    }
   ],
   "source": [
    "df.duplicated().sum()"
   ]
  },
  {
   "cell_type": "code",
   "execution_count": 10,
   "id": "3d07f427",
   "metadata": {
    "execution": {
     "iopub.execute_input": "2023-10-04T18:09:14.583186Z",
     "iopub.status.busy": "2023-10-04T18:09:14.582875Z",
     "iopub.status.idle": "2023-10-04T18:09:14.603966Z",
     "shell.execute_reply": "2023-10-04T18:09:14.602921Z"
    },
    "papermill": {
     "duration": 0.031042,
     "end_time": "2023-10-04T18:09:14.605688",
     "exception": false,
     "start_time": "2023-10-04T18:09:14.574646",
     "status": "completed"
    },
    "tags": []
   },
   "outputs": [
    {
     "name": "stdout",
     "output_type": "stream",
     "text": [
      "toxic\n",
      "0    144277\n",
      "1     15294\n",
      "Name: count, dtype: int64\n",
      "----------------------\n",
      "severe_toxic\n",
      "0    157976\n",
      "1      1595\n",
      "Name: count, dtype: int64\n",
      "----------------------\n",
      "obscene\n",
      "0    151122\n",
      "1      8449\n",
      "Name: count, dtype: int64\n",
      "----------------------\n",
      "threat\n",
      "0    159093\n",
      "1       478\n",
      "Name: count, dtype: int64\n",
      "----------------------\n",
      "insult\n",
      "0    151694\n",
      "1      7877\n",
      "Name: count, dtype: int64\n",
      "----------------------\n",
      "identity_hate\n",
      "0    158166\n",
      "1      1405\n",
      "Name: count, dtype: int64\n",
      "----------------------\n"
     ]
    }
   ],
   "source": [
    "for col in df.select_dtypes(\"int\"):\n",
    "    print(df[col].value_counts())\n",
    "    print(\"----------------------\")"
   ]
  },
  {
   "cell_type": "code",
   "execution_count": 11,
   "id": "13309ef6",
   "metadata": {
    "execution": {
     "iopub.execute_input": "2023-10-04T18:09:14.621298Z",
     "iopub.status.busy": "2023-10-04T18:09:14.621042Z",
     "iopub.status.idle": "2023-10-04T18:09:14.627848Z",
     "shell.execute_reply": "2023-10-04T18:09:14.626859Z"
    },
    "papermill": {
     "duration": 0.016926,
     "end_time": "2023-10-04T18:09:14.629632",
     "exception": false,
     "start_time": "2023-10-04T18:09:14.612706",
     "status": "completed"
    },
    "tags": []
   },
   "outputs": [],
   "source": [
    "def drop_stop_words(text):\n",
    "    words = word_tokenize(text)\n",
    "    wordsFiltered = []\n",
    "    for w in words:\n",
    "        if w.lower() not in stopwords:\n",
    "            wordsFiltered.append(w)\n",
    "\n",
    "    wordsFiltered = \" \".join(wordsFiltered)\n",
    "    return wordsFiltered\n",
    "\n",
    "\n",
    "def remove_elongation(text):\n",
    "    pattern = re.compile(r\"(.)\\1{2,}\")\n",
    "    return pattern.sub(r\"\\1\", text)\n",
    "\n",
    "\n",
    "def processing(text):\n",
    "    try:\n",
    "        url_pattern = r'https?://\\S+|www\\.\\S+'\n",
    "        text = re.sub(url_pattern, '', text)\n",
    "        \n",
    "        text = re.sub(r'#', '', text).strip()\n",
    "        \n",
    "        text = contractions.fix(text) # remove_punc\n",
    "        text = text.translate(str.maketrans('', '', string.punctuation))\n",
    "        \n",
    "        extract_words = re.compile(r'\\W+')  # remove_non_word\n",
    "        text = extract_words.sub(' ', text)\n",
    "\n",
    "        text = drop_stop_words(text)\n",
    "        text = re.sub('[^a-zA-Z\\s]', '', text) # remove_non_English_word\n",
    "        \n",
    "        text = re.sub(r'user(?:name)?\\s', '', text) # remove_username\n",
    "        text = remove_elongation(text)\n",
    "\n",
    "        return text\n",
    "    except Exception as e:\n",
    "        print(\"Error processing text:\", e)\n",
    "        return text  # Return the original text if an error occurs"
   ]
  },
  {
   "cell_type": "code",
   "execution_count": 12,
   "id": "e3d586da",
   "metadata": {
    "execution": {
     "iopub.execute_input": "2023-10-04T18:09:14.645289Z",
     "iopub.status.busy": "2023-10-04T18:09:14.644571Z",
     "iopub.status.idle": "2023-10-04T18:09:14.654956Z",
     "shell.execute_reply": "2023-10-04T18:09:14.654119Z"
    },
    "papermill": {
     "duration": 0.019866,
     "end_time": "2023-10-04T18:09:14.656662",
     "exception": false,
     "start_time": "2023-10-04T18:09:14.636796",
     "status": "completed"
    },
    "tags": []
   },
   "outputs": [],
   "source": [
    "df_copy = df.copy()"
   ]
  },
  {
   "cell_type": "code",
   "execution_count": 13,
   "id": "b3687e27",
   "metadata": {
    "execution": {
     "iopub.execute_input": "2023-10-04T18:09:14.672300Z",
     "iopub.status.busy": "2023-10-04T18:09:14.671540Z",
     "iopub.status.idle": "2023-10-04T18:10:36.697031Z",
     "shell.execute_reply": "2023-10-04T18:10:36.696047Z"
    },
    "papermill": {
     "duration": 82.035618,
     "end_time": "2023-10-04T18:10:36.699283",
     "exception": false,
     "start_time": "2023-10-04T18:09:14.663665",
     "status": "completed"
    },
    "tags": []
   },
   "outputs": [],
   "source": [
    "df_copy['comment_text'] = df_copy[\"comment_text\"].apply(lambda x: processing(x))"
   ]
  },
  {
   "cell_type": "code",
   "execution_count": 14,
   "id": "2293bd4b",
   "metadata": {
    "execution": {
     "iopub.execute_input": "2023-10-04T18:10:36.715389Z",
     "iopub.status.busy": "2023-10-04T18:10:36.714952Z",
     "iopub.status.idle": "2023-10-04T18:10:36.734470Z",
     "shell.execute_reply": "2023-10-04T18:10:36.733561Z"
    },
    "papermill": {
     "duration": 0.029451,
     "end_time": "2023-10-04T18:10:36.736343",
     "exception": false,
     "start_time": "2023-10-04T18:10:36.706892",
     "status": "completed"
    },
    "tags": []
   },
   "outputs": [
    {
     "data": {
      "text/plain": [
       "comment_text     0\n",
       "toxic            0\n",
       "severe_toxic     0\n",
       "obscene          0\n",
       "threat           0\n",
       "insult           0\n",
       "identity_hate    0\n",
       "dtype: int64"
      ]
     },
     "execution_count": 14,
     "metadata": {},
     "output_type": "execute_result"
    }
   ],
   "source": [
    "df_copy.isnull().sum()"
   ]
  },
  {
   "cell_type": "code",
   "execution_count": 15,
   "id": "a18d9203",
   "metadata": {
    "execution": {
     "iopub.execute_input": "2023-10-04T18:10:36.751784Z",
     "iopub.status.busy": "2023-10-04T18:10:36.751520Z",
     "iopub.status.idle": "2023-10-04T18:10:36.895560Z",
     "shell.execute_reply": "2023-10-04T18:10:36.894491Z"
    },
    "papermill": {
     "duration": 0.153931,
     "end_time": "2023-10-04T18:10:36.897530",
     "exception": false,
     "start_time": "2023-10-04T18:10:36.743599",
     "status": "completed"
    },
    "tags": []
   },
   "outputs": [
    {
     "data": {
      "text/plain": [
       "1311"
      ]
     },
     "execution_count": 15,
     "metadata": {},
     "output_type": "execute_result"
    }
   ],
   "source": [
    "df_copy.duplicated().sum()"
   ]
  },
  {
   "cell_type": "code",
   "execution_count": 16,
   "id": "8ccd36c2",
   "metadata": {
    "execution": {
     "iopub.execute_input": "2023-10-04T18:10:36.913440Z",
     "iopub.status.busy": "2023-10-04T18:10:36.913144Z",
     "iopub.status.idle": "2023-10-04T18:10:37.056696Z",
     "shell.execute_reply": "2023-10-04T18:10:37.055705Z"
    },
    "papermill": {
     "duration": 0.154138,
     "end_time": "2023-10-04T18:10:37.058866",
     "exception": false,
     "start_time": "2023-10-04T18:10:36.904728",
     "status": "completed"
    },
    "tags": []
   },
   "outputs": [],
   "source": [
    "df_copy.drop_duplicates(inplace = True)"
   ]
  },
  {
   "cell_type": "code",
   "execution_count": 17,
   "id": "3bb81879",
   "metadata": {
    "execution": {
     "iopub.execute_input": "2023-10-04T18:10:37.075548Z",
     "iopub.status.busy": "2023-10-04T18:10:37.075238Z",
     "iopub.status.idle": "2023-10-04T18:10:37.080622Z",
     "shell.execute_reply": "2023-10-04T18:10:37.079763Z"
    },
    "papermill": {
     "duration": 0.015578,
     "end_time": "2023-10-04T18:10:37.082253",
     "exception": false,
     "start_time": "2023-10-04T18:10:37.066675",
     "status": "completed"
    },
    "tags": []
   },
   "outputs": [
    {
     "data": {
      "text/plain": [
       "['comment_text',\n",
       " 'toxic',\n",
       " 'severe_toxic',\n",
       " 'obscene',\n",
       " 'threat',\n",
       " 'insult',\n",
       " 'identity_hate']"
      ]
     },
     "execution_count": 17,
     "metadata": {},
     "output_type": "execute_result"
    }
   ],
   "source": [
    "df_copy.columns.tolist()"
   ]
  },
  {
   "cell_type": "code",
   "execution_count": 18,
   "id": "218ceaa1",
   "metadata": {
    "execution": {
     "iopub.execute_input": "2023-10-04T18:10:37.143954Z",
     "iopub.status.busy": "2023-10-04T18:10:37.143653Z",
     "iopub.status.idle": "2023-10-04T18:10:37.171090Z",
     "shell.execute_reply": "2023-10-04T18:10:37.169888Z"
    },
    "papermill": {
     "duration": 0.083511,
     "end_time": "2023-10-04T18:10:37.172845",
     "exception": false,
     "start_time": "2023-10-04T18:10:37.089334",
     "status": "completed"
    },
    "tags": []
   },
   "outputs": [
    {
     "name": "stdout",
     "output_type": "stream",
     "text": [
      "<class 'pandas.core.frame.DataFrame'>\n",
      "Index: 158260 entries, 0000997932d777bf to fff46fc426af1f9a\n",
      "Data columns (total 7 columns):\n",
      " #   Column         Non-Null Count   Dtype \n",
      "---  ------         --------------   ----- \n",
      " 0   comment_text   158260 non-null  object\n",
      " 1   toxic          158260 non-null  int64 \n",
      " 2   severe_toxic   158260 non-null  int64 \n",
      " 3   obscene        158260 non-null  int64 \n",
      " 4   threat         158260 non-null  int64 \n",
      " 5   insult         158260 non-null  int64 \n",
      " 6   identity_hate  158260 non-null  int64 \n",
      "dtypes: int64(6), object(1)\n",
      "memory usage: 9.7+ MB\n"
     ]
    }
   ],
   "source": [
    "df_copy.info()"
   ]
  },
  {
   "cell_type": "code",
   "execution_count": 19,
   "id": "d904b70f",
   "metadata": {
    "execution": {
     "iopub.execute_input": "2023-10-04T18:10:37.189113Z",
     "iopub.status.busy": "2023-10-04T18:10:37.188343Z",
     "iopub.status.idle": "2023-10-04T18:10:38.211264Z",
     "shell.execute_reply": "2023-10-04T18:10:38.210054Z"
    },
    "papermill": {
     "duration": 1.032837,
     "end_time": "2023-10-04T18:10:38.213113",
     "exception": false,
     "start_time": "2023-10-04T18:10:37.180276",
     "status": "completed"
    },
    "tags": []
   },
   "outputs": [
    {
     "data": {
      "image/png": "[encoded data removed]",
      "text/plain": [
       "<Figure size 640x480 with 1 Axes>"
      ]
     },
     "metadata": {},
     "output_type": "display_data"
    },
    {
     "name": "stdout",
     "output_type": "stream",
     "text": [
      "Avg: 34.43515733602932\n",
      "Max: 1250\n",
      "\n"
     ]
    }
   ],
   "source": [
    "def length_plot(data):\n",
    "    length = [len(sentence.split()) for sentence in data]\n",
    "    plt.hist(length, bins = 40)\n",
    "    plt.show()\n",
    "    print(f'Avg: {np.average(length)}')\n",
    "    print(f'Max: {np.max(length)}\\n')\n",
    "    \n",
    "length_plot(df_copy[\"comment_text\"])"
   ]
  },
  {
   "cell_type": "code",
   "execution_count": 20,
   "id": "3c2a5eeb",
   "metadata": {
    "execution": {
     "iopub.execute_input": "2023-10-04T18:10:38.230027Z",
     "iopub.status.busy": "2023-10-04T18:10:38.229740Z",
     "iopub.status.idle": "2023-10-04T18:10:43.050365Z",
     "shell.execute_reply": "2023-10-04T18:10:43.049214Z"
    },
    "papermill": {
     "duration": 4.83152,
     "end_time": "2023-10-04T18:10:43.052609",
     "exception": false,
     "start_time": "2023-10-04T18:10:38.221089",
     "status": "completed"
    },
    "tags": []
   },
   "outputs": [],
   "source": [
    "from tensorflow.keras.preprocessing.text import Tokenizer\n",
    "tok = Tokenizer()\n",
    "tok.fit_on_texts(df_copy['comment_text'])\n",
    "words = tok.word_index"
   ]
  },
  {
   "cell_type": "code",
   "execution_count": 21,
   "id": "46f729da",
   "metadata": {
    "execution": {
     "iopub.execute_input": "2023-10-04T18:10:43.070222Z",
     "iopub.status.busy": "2023-10-04T18:10:43.069638Z",
     "iopub.status.idle": "2023-10-04T18:10:43.075405Z",
     "shell.execute_reply": "2023-10-04T18:10:43.074457Z"
    },
    "papermill": {
     "duration": 0.016545,
     "end_time": "2023-10-04T18:10:43.077249",
     "exception": false,
     "start_time": "2023-10-04T18:10:43.060704",
     "status": "completed"
    },
    "tags": []
   },
   "outputs": [
    {
     "data": {
      "text/plain": [
       "215110"
      ]
     },
     "execution_count": 21,
     "metadata": {},
     "output_type": "execute_result"
    }
   ],
   "source": [
    "len(words)"
   ]
  },
  {
   "cell_type": "code",
   "execution_count": 22,
   "id": "e678fb64",
   "metadata": {
    "execution": {
     "iopub.execute_input": "2023-10-04T18:10:43.094694Z",
     "iopub.status.busy": "2023-10-04T18:10:43.093700Z",
     "iopub.status.idle": "2023-10-04T18:10:46.175340Z",
     "shell.execute_reply": "2023-10-04T18:10:46.174327Z"
    },
    "papermill": {
     "duration": 3.092769,
     "end_time": "2023-10-04T18:10:46.177675",
     "exception": false,
     "start_time": "2023-10-04T18:10:43.084906",
     "status": "completed"
    },
    "tags": []
   },
   "outputs": [],
   "source": [
    "sequence = tok.texts_to_sequences(df_copy['comment_text'])"
   ]
  },
  {
   "cell_type": "code",
   "execution_count": 23,
   "id": "d30d81b0",
   "metadata": {
    "execution": {
     "iopub.execute_input": "2023-10-04T18:10:46.195577Z",
     "iopub.status.busy": "2023-10-04T18:10:46.195301Z",
     "iopub.status.idle": "2023-10-04T18:10:46.270020Z",
     "shell.execute_reply": "2023-10-04T18:10:46.269102Z"
    },
    "papermill": {
     "duration": 0.085621,
     "end_time": "2023-10-04T18:10:46.271835",
     "exception": false,
     "start_time": "2023-10-04T18:10:46.186214",
     "status": "completed"
    },
    "tags": []
   },
   "outputs": [],
   "source": [
    "idx2word = {words[word]: word for word in words.keys()}"
   ]
  },
  {
   "cell_type": "code",
   "execution_count": 24,
   "id": "312347fa",
   "metadata": {
    "execution": {
     "iopub.execute_input": "2023-10-04T18:10:46.289461Z",
     "iopub.status.busy": "2023-10-04T18:10:46.289188Z",
     "iopub.status.idle": "2023-10-04T18:10:46.295574Z",
     "shell.execute_reply": "2023-10-04T18:10:46.294637Z"
    },
    "papermill": {
     "duration": 0.017075,
     "end_time": "2023-10-04T18:10:46.297350",
     "exception": false,
     "start_time": "2023-10-04T18:10:46.280275",
     "status": "completed"
    },
    "tags": []
   },
   "outputs": [
    {
     "data": {
      "text/plain": [
       "'explanation edits made hardcore metallica fan reverted not vandalisms closure gas voted new york dolls fac please not remove template talk page since retired now'"
      ]
     },
     "execution_count": 24,
     "metadata": {},
     "output_type": "execute_result"
    }
   ],
   "source": [
    "def reconstruct(tokens):\n",
    "    text = []\n",
    "    for token in tokens:\n",
    "        text.append(idx2word[token])\n",
    "    return \" \".join(text)\n",
    "reconstruct(sequence[0])"
   ]
  },
  {
   "cell_type": "code",
   "execution_count": 25,
   "id": "ae66b003",
   "metadata": {
    "execution": {
     "iopub.execute_input": "2023-10-04T18:10:46.314847Z",
     "iopub.status.busy": "2023-10-04T18:10:46.314362Z",
     "iopub.status.idle": "2023-10-04T18:10:46.857708Z",
     "shell.execute_reply": "2023-10-04T18:10:46.856761Z"
    },
    "papermill": {
     "duration": 0.554432,
     "end_time": "2023-10-04T18:10:46.859826",
     "exception": false,
     "start_time": "2023-10-04T18:10:46.305394",
     "status": "completed"
    },
    "tags": []
   },
   "outputs": [
    {
     "data": {
      "text/plain": [
       "array([[  507,    43,    44, ...,     0,     0,     0],\n",
       "       [91809,  2285,  1239, ...,     0,     0,     0],\n",
       "       [  296,   308,    48, ...,     0,     0,     0],\n",
       "       ...,\n",
       "       [32479,  7003,   530, ...,     0,     0,     0],\n",
       "       [  399,     9,   101, ...,     0,     0,     0],\n",
       "       [   48,     1,    12, ...,     0,     0,     0]], dtype=int32)"
      ]
     },
     "execution_count": 25,
     "metadata": {},
     "output_type": "execute_result"
    }
   ],
   "source": [
    "from tensorflow.keras.preprocessing.sequence import pad_sequences\n",
    "max_sequence_len = 150\n",
    "x_padded = pad_sequences(sequence, padding=\"post\", maxlen=max_sequence_len)\n",
    "x_padded"
   ]
  },
  {
   "cell_type": "code",
   "execution_count": 26,
   "id": "245377d4",
   "metadata": {
    "execution": {
     "iopub.execute_input": "2023-10-04T18:10:46.877570Z",
     "iopub.status.busy": "2023-10-04T18:10:46.877319Z",
     "iopub.status.idle": "2023-10-04T18:10:46.891441Z",
     "shell.execute_reply": "2023-10-04T18:10:46.890563Z"
    },
    "papermill": {
     "duration": 0.02465,
     "end_time": "2023-10-04T18:10:46.893190",
     "exception": false,
     "start_time": "2023-10-04T18:10:46.868540",
     "status": "completed"
    },
    "tags": []
   },
   "outputs": [
    {
     "data": {
      "text/html": [
       "<div>\n",
       "<style scoped>\n",
       "    .dataframe tbody tr th:only-of-type {\n",
       "        vertical-align: middle;\n",
       "    }\n",
       "\n",
       "    .dataframe tbody tr th {\n",
       "        vertical-align: top;\n",
       "    }\n",
       "\n",
       "    .dataframe thead th {\n",
       "        text-align: right;\n",
       "    }\n",
       "</style>\n",
       "<table border=\"1\" class=\"dataframe\">\n",
       "  <thead>\n",
       "    <tr style=\"text-align: right;\">\n",
       "      <th></th>\n",
       "      <th>toxic</th>\n",
       "      <th>severe_toxic</th>\n",
       "      <th>obscene</th>\n",
       "      <th>threat</th>\n",
       "      <th>insult</th>\n",
       "      <th>identity_hate</th>\n",
       "    </tr>\n",
       "    <tr>\n",
       "      <th>id</th>\n",
       "      <th></th>\n",
       "      <th></th>\n",
       "      <th></th>\n",
       "      <th></th>\n",
       "      <th></th>\n",
       "      <th></th>\n",
       "    </tr>\n",
       "  </thead>\n",
       "  <tbody>\n",
       "    <tr>\n",
       "      <th>0000997932d777bf</th>\n",
       "      <td>0</td>\n",
       "      <td>0</td>\n",
       "      <td>0</td>\n",
       "      <td>0</td>\n",
       "      <td>0</td>\n",
       "      <td>0</td>\n",
       "    </tr>\n",
       "    <tr>\n",
       "      <th>000103f0d9cfb60f</th>\n",
       "      <td>0</td>\n",
       "      <td>0</td>\n",
       "      <td>0</td>\n",
       "      <td>0</td>\n",
       "      <td>0</td>\n",
       "      <td>0</td>\n",
       "    </tr>\n",
       "    <tr>\n",
       "      <th>000113f07ec002fd</th>\n",
       "      <td>0</td>\n",
       "      <td>0</td>\n",
       "      <td>0</td>\n",
       "      <td>0</td>\n",
       "      <td>0</td>\n",
       "      <td>0</td>\n",
       "    </tr>\n",
       "    <tr>\n",
       "      <th>0001b41b1c6bb37e</th>\n",
       "      <td>0</td>\n",
       "      <td>0</td>\n",
       "      <td>0</td>\n",
       "      <td>0</td>\n",
       "      <td>0</td>\n",
       "      <td>0</td>\n",
       "    </tr>\n",
       "    <tr>\n",
       "      <th>0001d958c54c6e35</th>\n",
       "      <td>0</td>\n",
       "      <td>0</td>\n",
       "      <td>0</td>\n",
       "      <td>0</td>\n",
       "      <td>0</td>\n",
       "      <td>0</td>\n",
       "    </tr>\n",
       "    <tr>\n",
       "      <th>...</th>\n",
       "      <td>...</td>\n",
       "      <td>...</td>\n",
       "      <td>...</td>\n",
       "      <td>...</td>\n",
       "      <td>...</td>\n",
       "      <td>...</td>\n",
       "    </tr>\n",
       "    <tr>\n",
       "      <th>ffe987279560d7ff</th>\n",
       "      <td>0</td>\n",
       "      <td>0</td>\n",
       "      <td>0</td>\n",
       "      <td>0</td>\n",
       "      <td>0</td>\n",
       "      <td>0</td>\n",
       "    </tr>\n",
       "    <tr>\n",
       "      <th>ffea4adeee384e90</th>\n",
       "      <td>0</td>\n",
       "      <td>0</td>\n",
       "      <td>0</td>\n",
       "      <td>0</td>\n",
       "      <td>0</td>\n",
       "      <td>0</td>\n",
       "    </tr>\n",
       "    <tr>\n",
       "      <th>ffee36eab5c267c9</th>\n",
       "      <td>0</td>\n",
       "      <td>0</td>\n",
       "      <td>0</td>\n",
       "      <td>0</td>\n",
       "      <td>0</td>\n",
       "      <td>0</td>\n",
       "    </tr>\n",
       "    <tr>\n",
       "      <th>fff125370e4aaaf3</th>\n",
       "      <td>0</td>\n",
       "      <td>0</td>\n",
       "      <td>0</td>\n",
       "      <td>0</td>\n",
       "      <td>0</td>\n",
       "      <td>0</td>\n",
       "    </tr>\n",
       "    <tr>\n",
       "      <th>fff46fc426af1f9a</th>\n",
       "      <td>0</td>\n",
       "      <td>0</td>\n",
       "      <td>0</td>\n",
       "      <td>0</td>\n",
       "      <td>0</td>\n",
       "      <td>0</td>\n",
       "    </tr>\n",
       "  </tbody>\n",
       "</table>\n",
       "<p>158260 rows × 6 columns</p>\n",
       "</div>"
      ],
      "text/plain": [
       "                  toxic  severe_toxic  obscene  threat  insult  identity_hate\n",
       "id                                                                           \n",
       "0000997932d777bf      0             0        0       0       0              0\n",
       "000103f0d9cfb60f      0             0        0       0       0              0\n",
       "000113f07ec002fd      0             0        0       0       0              0\n",
       "0001b41b1c6bb37e      0             0        0       0       0              0\n",
       "0001d958c54c6e35      0             0        0       0       0              0\n",
       "...                 ...           ...      ...     ...     ...            ...\n",
       "ffe987279560d7ff      0             0        0       0       0              0\n",
       "ffea4adeee384e90      0             0        0       0       0              0\n",
       "ffee36eab5c267c9      0             0        0       0       0              0\n",
       "fff125370e4aaaf3      0             0        0       0       0              0\n",
       "fff46fc426af1f9a      0             0        0       0       0              0\n",
       "\n",
       "[158260 rows x 6 columns]"
      ]
     },
     "execution_count": 26,
     "metadata": {},
     "output_type": "execute_result"
    }
   ],
   "source": [
    "df_label = df_copy.iloc[:, 1:]\n",
    "df_label"
   ]
  },
  {
   "cell_type": "code",
   "execution_count": 27,
   "id": "0e82b7a9",
   "metadata": {
    "execution": {
     "iopub.execute_input": "2023-10-04T18:10:46.910882Z",
     "iopub.status.busy": "2023-10-04T18:10:46.910332Z",
     "iopub.status.idle": "2023-10-04T18:10:46.975569Z",
     "shell.execute_reply": "2023-10-04T18:10:46.974597Z"
    },
    "papermill": {
     "duration": 0.076118,
     "end_time": "2023-10-04T18:10:46.977758",
     "exception": false,
     "start_time": "2023-10-04T18:10:46.901640",
     "status": "completed"
    },
    "tags": []
   },
   "outputs": [],
   "source": [
    "x_train, x_test, y_train, y_test = train_test_split(x_padded, df_label, test_size=0.1, random_state=42)"
   ]
  },
  {
   "cell_type": "code",
   "execution_count": 28,
   "id": "4a1834fb",
   "metadata": {
    "execution": {
     "iopub.execute_input": "2023-10-04T18:10:46.995830Z",
     "iopub.status.busy": "2023-10-04T18:10:46.995158Z",
     "iopub.status.idle": "2023-10-04T18:10:47.001337Z",
     "shell.execute_reply": "2023-10-04T18:10:47.000434Z"
    },
    "papermill": {
     "duration": 0.016762,
     "end_time": "2023-10-04T18:10:47.002957",
     "exception": false,
     "start_time": "2023-10-04T18:10:46.986195",
     "status": "completed"
    },
    "tags": []
   },
   "outputs": [
    {
     "data": {
      "text/plain": [
       "(142434, 150)"
      ]
     },
     "execution_count": 28,
     "metadata": {},
     "output_type": "execute_result"
    }
   ],
   "source": [
    "x_train.shape"
   ]
  },
  {
   "cell_type": "code",
   "execution_count": 29,
   "id": "3b016481",
   "metadata": {
    "execution": {
     "iopub.execute_input": "2023-10-04T18:10:47.020524Z",
     "iopub.status.busy": "2023-10-04T18:10:47.019820Z",
     "iopub.status.idle": "2023-10-04T18:10:47.026024Z",
     "shell.execute_reply": "2023-10-04T18:10:47.025049Z"
    },
    "papermill": {
     "duration": 0.016969,
     "end_time": "2023-10-04T18:10:47.027848",
     "exception": false,
     "start_time": "2023-10-04T18:10:47.010879",
     "status": "completed"
    },
    "tags": []
   },
   "outputs": [
    {
     "data": {
      "text/plain": [
       "array([[  772,     0,     0, ...,     0,     0,     0],\n",
       "       [   21,    44,  1831, ...,     0,     0,     0],\n",
       "       [ 2358,     9,    48, ...,     0,     0,     0],\n",
       "       ...,\n",
       "       [  681, 19109,   492, ...,     0,     0,     0],\n",
       "       [ 6455,  2084,  3505, ...,     0,     0,     0],\n",
       "       [   11, 55079, 71854, ...,     0,     0,     0]], dtype=int32)"
      ]
     },
     "execution_count": 29,
     "metadata": {},
     "output_type": "execute_result"
    }
   ],
   "source": [
    "x_test"
   ]
  },
  {
   "cell_type": "code",
   "execution_count": 30,
   "id": "6948efca",
   "metadata": {
    "execution": {
     "iopub.execute_input": "2023-10-04T18:10:47.046022Z",
     "iopub.status.busy": "2023-10-04T18:10:47.045320Z",
     "iopub.status.idle": "2023-10-04T18:10:47.050868Z",
     "shell.execute_reply": "2023-10-04T18:10:47.050041Z"
    },
    "papermill": {
     "duration": 0.015968,
     "end_time": "2023-10-04T18:10:47.052495",
     "exception": false,
     "start_time": "2023-10-04T18:10:47.036527",
     "status": "completed"
    },
    "tags": []
   },
   "outputs": [
    {
     "data": {
      "text/plain": [
       "215111"
      ]
     },
     "execution_count": 30,
     "metadata": {},
     "output_type": "execute_result"
    }
   ],
   "source": [
    "VOCAB_SIZE = len(words) + 1\n",
    "VOCAB_SIZE"
   ]
  },
  {
   "cell_type": "code",
   "execution_count": 31,
   "id": "e804364c",
   "metadata": {
    "execution": {
     "iopub.execute_input": "2023-10-04T18:10:47.070494Z",
     "iopub.status.busy": "2023-10-04T18:10:47.069761Z",
     "iopub.status.idle": "2023-10-04T18:10:53.240449Z",
     "shell.execute_reply": "2023-10-04T18:10:53.239464Z"
    },
    "papermill": {
     "duration": 6.181797,
     "end_time": "2023-10-04T18:10:53.242712",
     "exception": false,
     "start_time": "2023-10-04T18:10:47.060915",
     "status": "completed"
    },
    "tags": []
   },
   "outputs": [],
   "source": [
    "VECTOR_FEATURES = 128\n",
    "lstm_bi = tf.keras.models.Sequential([    \n",
    "    tf.keras.layers.Embedding(VOCAB_SIZE, VECTOR_FEATURES),\n",
    "    tf.keras.layers.Bidirectional(tf.keras.layers.LSTM(128, return_sequences=True)),\n",
    "    tf.keras.layers.Bidirectional(tf.keras.layers.LSTM(64)),\n",
    "    tf.keras.layers.Dropout(0.1),\n",
    "    tf.keras.layers.Dense(64, activation='relu'),\n",
    "    tf.keras.layers.Dropout(0.2),\n",
    "    tf.keras.layers.Dense(6, activation='sigmoid')\n",
    "])"
   ]
  },
  {
   "cell_type": "code",
   "execution_count": 32,
   "id": "110e26a1",
   "metadata": {
    "execution": {
     "iopub.execute_input": "2023-10-04T18:10:53.262042Z",
     "iopub.status.busy": "2023-10-04T18:10:53.261677Z",
     "iopub.status.idle": "2023-10-04T18:10:53.286117Z",
     "shell.execute_reply": "2023-10-04T18:10:53.285123Z"
    },
    "papermill": {
     "duration": 0.03606,
     "end_time": "2023-10-04T18:10:53.288026",
     "exception": false,
     "start_time": "2023-10-04T18:10:53.251966",
     "status": "completed"
    },
    "tags": []
   },
   "outputs": [],
   "source": [
    "roc_auc_metric = tf.keras.metrics.AUC()\n",
    "lstm_bi.compile(loss=tf.keras.losses.BinaryCrossentropy(),\n",
    "              optimizer=tf.keras.optimizers.Adam(lr = 1e-03),\n",
    "              metrics=[\"accuracy\"])"
   ]
  },
  {
   "cell_type": "code",
   "execution_count": 33,
   "id": "3c8808af",
   "metadata": {
    "execution": {
     "iopub.execute_input": "2023-10-04T18:10:53.306297Z",
     "iopub.status.busy": "2023-10-04T18:10:53.305458Z",
     "iopub.status.idle": "2023-10-04T18:18:20.999638Z",
     "shell.execute_reply": "2023-10-04T18:18:20.998551Z"
    },
    "papermill": {
     "duration": 447.705391,
     "end_time": "2023-10-04T18:18:21.001801",
     "exception": false,
     "start_time": "2023-10-04T18:10:53.296410",
     "status": "completed"
    },
    "tags": []
   },
   "outputs": [
    {
     "name": "stdout",
     "output_type": "stream",
     "text": [
      "Epoch 1/5\n",
      "1113/1113 [==============================] - 170s 141ms/step - loss: 0.0765 - accuracy: 0.9047 - val_loss: 0.0541 - val_accuracy: 0.9947\n",
      "Epoch 2/5\n",
      "1113/1113 [==============================] - 75s 68ms/step - loss: 0.0447 - accuracy: 0.9788 - val_loss: 0.0511 - val_accuracy: 0.9947\n",
      "Epoch 3/5\n",
      "1113/1113 [==============================] - 62s 56ms/step - loss: 0.0377 - accuracy: 0.9822 - val_loss: 0.0538 - val_accuracy: 0.9946\n",
      "Epoch 4/5\n",
      "1113/1113 [==============================] - 58s 52ms/step - loss: 0.0332 - accuracy: 0.9865 - val_loss: 0.0586 - val_accuracy: 0.9947\n",
      "Epoch 5/5\n",
      "1113/1113 [==============================] - 56s 50ms/step - loss: 0.0298 - accuracy: 0.9695 - val_loss: 0.0634 - val_accuracy: 0.9941\n"
     ]
    }
   ],
   "source": [
    "history = lstm_bi.fit(x_train, y_train, epochs=5, batch_size=128,\n",
    "                    validation_data=(x_test, y_test))"
   ]
  },
  {
   "cell_type": "code",
   "execution_count": 34,
   "id": "d0fc503c",
   "metadata": {
    "execution": {
     "iopub.execute_input": "2023-10-04T18:18:21.298481Z",
     "iopub.status.busy": "2023-10-04T18:18:21.298162Z",
     "iopub.status.idle": "2023-10-04T18:18:26.935371Z",
     "shell.execute_reply": "2023-10-04T18:18:26.934253Z"
    },
    "papermill": {
     "duration": 5.785622,
     "end_time": "2023-10-04T18:18:26.937310",
     "exception": false,
     "start_time": "2023-10-04T18:18:21.151688",
     "status": "completed"
    },
    "tags": []
   },
   "outputs": [
    {
     "name": "stdout",
     "output_type": "stream",
     "text": [
      "495/495 [==============================] - 6s 11ms/step - loss: 0.0634 - accuracy: 0.9941\n",
      "Test Loss: 0.06343528628349304\n",
      "Test Accuracy: 0.9940603971481323\n"
     ]
    }
   ],
   "source": [
    "test_loss, test_acc = lstm_bi.evaluate(x_test, y_test)\n",
    "\n",
    "print('Test Loss: {}'.format(test_loss))\n",
    "print('Test Accuracy: {}'.format(test_acc))"
   ]
  },
  {
   "cell_type": "code",
   "execution_count": 35,
   "id": "0087a1a1",
   "metadata": {
    "execution": {
     "iopub.execute_input": "2023-10-04T18:18:27.278798Z",
     "iopub.status.busy": "2023-10-04T18:18:27.278461Z",
     "iopub.status.idle": "2023-10-04T18:18:28.135865Z",
     "shell.execute_reply": "2023-10-04T18:18:28.134721Z"
    },
    "papermill": {
     "duration": 1.008318,
     "end_time": "2023-10-04T18:18:28.138023",
     "exception": false,
     "start_time": "2023-10-04T18:18:27.129705",
     "status": "completed"
    },
    "tags": []
   },
   "outputs": [
    {
     "name": "stdout",
     "output_type": "stream",
     "text": [
      "<class 'pandas.core.frame.DataFrame'>\n",
      "RangeIndex: 153164 entries, 0 to 153163\n",
      "Data columns (total 2 columns):\n",
      " #   Column        Non-Null Count   Dtype \n",
      "---  ------        --------------   ----- \n",
      " 0   id            153164 non-null  object\n",
      " 1   comment_text  153164 non-null  object\n",
      "dtypes: object(2)\n",
      "memory usage: 2.3+ MB\n"
     ]
    }
   ],
   "source": [
    "test_df = pd.read_csv('/kaggle/working/test.csv')\n",
    "test_df.info()"
   ]
  },
  {
   "cell_type": "code",
   "execution_count": 36,
   "id": "2529d634",
   "metadata": {
    "execution": {
     "iopub.execute_input": "2023-10-04T18:18:28.447248Z",
     "iopub.status.busy": "2023-10-04T18:18:28.446901Z",
     "iopub.status.idle": "2023-10-04T18:19:40.018086Z",
     "shell.execute_reply": "2023-10-04T18:19:40.016932Z"
    },
    "papermill": {
     "duration": 71.881323,
     "end_time": "2023-10-04T18:19:40.179972",
     "exception": false,
     "start_time": "2023-10-04T18:18:28.298649",
     "status": "completed"
    },
    "tags": []
   },
   "outputs": [
    {
     "name": "stdout",
     "output_type": "stream",
     "text": [
      "Error processing text: string index out of range\n",
      "Error processing text: string index out of range\n",
      "Error processing text: string index out of range\n",
      "Error processing text: string index out of range\n"
     ]
    },
    {
     "data": {
      "text/html": [
       "<div>\n",
       "<style scoped>\n",
       "    .dataframe tbody tr th:only-of-type {\n",
       "        vertical-align: middle;\n",
       "    }\n",
       "\n",
       "    .dataframe tbody tr th {\n",
       "        vertical-align: top;\n",
       "    }\n",
       "\n",
       "    .dataframe thead th {\n",
       "        text-align: right;\n",
       "    }\n",
       "</style>\n",
       "<table border=\"1\" class=\"dataframe\">\n",
       "  <thead>\n",
       "    <tr style=\"text-align: right;\">\n",
       "      <th></th>\n",
       "      <th>id</th>\n",
       "      <th>comment_text</th>\n",
       "    </tr>\n",
       "  </thead>\n",
       "  <tbody>\n",
       "    <tr>\n",
       "      <th>0</th>\n",
       "      <td>00001cee341fdb12</td>\n",
       "      <td>Yo bitch Ja Rule succesful ever hating sad mof...</td>\n",
       "    </tr>\n",
       "    <tr>\n",
       "      <th>1</th>\n",
       "      <td>0000247867823ef7</td>\n",
       "      <td>RfC title fine GOING</td>\n",
       "    </tr>\n",
       "    <tr>\n",
       "      <th>2</th>\n",
       "      <td>00013b17ad220c46</td>\n",
       "      <td>Sources Zawe Ashton Lapland</td>\n",
       "    </tr>\n",
       "    <tr>\n",
       "      <th>3</th>\n",
       "      <td>00017563c3f7919a</td>\n",
       "      <td>look back source information updated correct f...</td>\n",
       "    </tr>\n",
       "    <tr>\n",
       "      <th>4</th>\n",
       "      <td>00017695ad8997eb</td>\n",
       "      <td>not anonymously edit articles</td>\n",
       "    </tr>\n",
       "    <tr>\n",
       "      <th>...</th>\n",
       "      <td>...</td>\n",
       "      <td>...</td>\n",
       "    </tr>\n",
       "    <tr>\n",
       "      <th>153159</th>\n",
       "      <td>fffcd0960ee309b5</td>\n",
       "      <td>totally agree stuff nothing toolongcrap</td>\n",
       "    </tr>\n",
       "    <tr>\n",
       "      <th>153160</th>\n",
       "      <td>fffd7a9a6eb32c16</td>\n",
       "      <td>Throw field home plate get faster throwing cut...</td>\n",
       "    </tr>\n",
       "    <tr>\n",
       "      <th>153161</th>\n",
       "      <td>fffda9e8d6fafa9e</td>\n",
       "      <td>Okinotorishima categories see changes agree co...</td>\n",
       "    </tr>\n",
       "    <tr>\n",
       "      <th>153162</th>\n",
       "      <td>fffe8f1340a79fc2</td>\n",
       "      <td>One founding nations EU Germany Law Return qui...</td>\n",
       "    </tr>\n",
       "    <tr>\n",
       "      <th>153163</th>\n",
       "      <td>ffffce3fb183ee80</td>\n",
       "      <td>Stop already bullshit not welcome fool think k...</td>\n",
       "    </tr>\n",
       "  </tbody>\n",
       "</table>\n",
       "<p>153164 rows × 2 columns</p>\n",
       "</div>"
      ],
      "text/plain": [
       "                      id                                       comment_text\n",
       "0       00001cee341fdb12  Yo bitch Ja Rule succesful ever hating sad mof...\n",
       "1       0000247867823ef7                               RfC title fine GOING\n",
       "2       00013b17ad220c46                        Sources Zawe Ashton Lapland\n",
       "3       00017563c3f7919a  look back source information updated correct f...\n",
       "4       00017695ad8997eb                      not anonymously edit articles\n",
       "...                  ...                                                ...\n",
       "153159  fffcd0960ee309b5            totally agree stuff nothing toolongcrap\n",
       "153160  fffd7a9a6eb32c16  Throw field home plate get faster throwing cut...\n",
       "153161  fffda9e8d6fafa9e  Okinotorishima categories see changes agree co...\n",
       "153162  fffe8f1340a79fc2  One founding nations EU Germany Law Return qui...\n",
       "153163  ffffce3fb183ee80  Stop already bullshit not welcome fool think k...\n",
       "\n",
       "[153164 rows x 2 columns]"
      ]
     },
     "execution_count": 36,
     "metadata": {},
     "output_type": "execute_result"
    }
   ],
   "source": [
    "test_df['comment_text'] = test_df[\"comment_text\"].apply(lambda x: processing(x))\n",
    "test_df"
   ]
  },
  {
   "cell_type": "code",
   "execution_count": 37,
   "id": "36fcb2c3",
   "metadata": {
    "execution": {
     "iopub.execute_input": "2023-10-04T18:19:40.478572Z",
     "iopub.status.busy": "2023-10-04T18:19:40.478253Z",
     "iopub.status.idle": "2023-10-04T18:21:07.182334Z",
     "shell.execute_reply": "2023-10-04T18:21:07.181299Z"
    },
    "papermill": {
     "duration": 86.855967,
     "end_time": "2023-10-04T18:21:07.184736",
     "exception": false,
     "start_time": "2023-10-04T18:19:40.328769",
     "status": "completed"
    },
    "tags": []
   },
   "outputs": [
    {
     "name": "stdout",
     "output_type": "stream",
     "text": [
      "4787/4787 [==============================] - 44s 9ms/step\n"
     ]
    }
   ],
   "source": [
    "test = tok.texts_to_sequences(test_df['comment_text'])\n",
    "test = pad_sequences(test, padding=\"post\", maxlen=max_sequence_len)\n",
    "predicted = lstm_bi.predict(test)"
   ]
  },
  {
   "cell_type": "code",
   "execution_count": 38,
   "id": "853547ad",
   "metadata": {
    "execution": {
     "iopub.execute_input": "2023-10-04T18:21:07.612875Z",
     "iopub.status.busy": "2023-10-04T18:21:07.611875Z",
     "iopub.status.idle": "2023-10-04T18:21:07.617647Z",
     "shell.execute_reply": "2023-10-04T18:21:07.616729Z"
    },
    "papermill": {
     "duration": 0.244835,
     "end_time": "2023-10-04T18:21:07.619332",
     "exception": false,
     "start_time": "2023-10-04T18:21:07.374497",
     "status": "completed"
    },
    "tags": []
   },
   "outputs": [],
   "source": [
    "predict_df = pd.DataFrame(predicted, columns = ['toxic', 'severe_toxic', 'obscene', 'threat', 'insult', 'identity_hate'])"
   ]
  },
  {
   "cell_type": "code",
   "execution_count": 39,
   "id": "6633ed9d",
   "metadata": {
    "execution": {
     "iopub.execute_input": "2023-10-04T18:21:07.989310Z",
     "iopub.status.busy": "2023-10-04T18:21:07.988614Z",
     "iopub.status.idle": "2023-10-04T18:21:07.997549Z",
     "shell.execute_reply": "2023-10-04T18:21:07.996658Z"
    },
    "papermill": {
     "duration": 0.196032,
     "end_time": "2023-10-04T18:21:07.999444",
     "exception": false,
     "start_time": "2023-10-04T18:21:07.803412",
     "status": "completed"
    },
    "tags": []
   },
   "outputs": [],
   "source": [
    "sub = pd.concat((test_df['id'], predict_df), axis = 1)"
   ]
  },
  {
   "cell_type": "code",
   "execution_count": 40,
   "id": "c3787d43",
   "metadata": {
    "execution": {
     "iopub.execute_input": "2023-10-04T18:21:08.385291Z",
     "iopub.status.busy": "2023-10-04T18:21:08.384931Z",
     "iopub.status.idle": "2023-10-04T18:21:09.455623Z",
     "shell.execute_reply": "2023-10-04T18:21:09.454648Z"
    },
    "papermill": {
     "duration": 1.268657,
     "end_time": "2023-10-04T18:21:09.457705",
     "exception": false,
     "start_time": "2023-10-04T18:21:08.189048",
     "status": "completed"
    },
    "tags": []
   },
   "outputs": [],
   "source": [
    "sub.to_csv(\"submission.csv\", index= False)"
   ]
  }
 ],
 "metadata": {
  "kernelspec": {
   "display_name": "Python 3",
   "language": "python",
   "name": "python3"
  },
  "language_info": {
   "codemirror_mode": {
    "name": "ipython",
    "version": 3
   },
   "file_extension": ".py",
   "mimetype": "text/x-python",
   "name": "python",
   "nbconvert_exporter": "python",
   "pygments_lexer": "ipython3",
   "version": "3.10.12"
  },
  "papermill": {
   "default_parameters": {},
   "duration": 748.965721,
   "end_time": "2023-10-04T18:21:13.269363",
   "environment_variables": {},
   "exception": null,
   "input_path": "__notebook__.ipynb",
   "output_path": "__notebook__.ipynb",
   "parameters": {},
   "start_time": "2023-10-04T18:08:44.303642",
   "version": "2.4.0"
  }
 },
 "nbformat": 4,
 "nbformat_minor": 5
}
